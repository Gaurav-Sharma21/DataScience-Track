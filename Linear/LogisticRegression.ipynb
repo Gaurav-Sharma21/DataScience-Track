{
  "nbformat": 4,
  "nbformat_minor": 0,
  "metadata": {
    "colab": {
      "provenance": [],
      "authorship_tag": "ABX9TyPTMTbIYEMeQH40S73n8T7b",
      "include_colab_link": true
    },
    "kernelspec": {
      "name": "python3",
      "display_name": "Python 3"
    },
    "language_info": {
      "name": "python"
    }
  },
  "cells": [
    {
      "cell_type": "markdown",
      "metadata": {
        "id": "view-in-github",
        "colab_type": "text"
      },
      "source": [
        "<a href=\"https://colab.research.google.com/github/Gaurav-Sharma21/DataScience-Track/blob/main/Linear/LogisticRegression.ipynb\" target=\"_parent\"><img src=\"https://colab.research.google.com/assets/colab-badge.svg\" alt=\"Open In Colab\"/></a>"
      ]
    },
    {
      "cell_type": "code",
      "execution_count": 22,
      "metadata": {
        "id": "Vu-kPHNVlT_6"
      },
      "outputs": [],
      "source": [
        "import torch\n",
        "import torch.nn as nn\n",
        "import numpy as np"
      ]
    },
    {
      "cell_type": "code",
      "source": [
        "torch.__version__\n"
      ],
      "metadata": {
        "colab": {
          "base_uri": "https://localhost:8080/",
          "height": 35
        },
        "id": "HrUC2yE-lZ20",
        "outputId": "6721938a-c8ab-48fb-e01c-79f72fff42ac"
      },
      "execution_count": 15,
      "outputs": [
        {
          "output_type": "execute_result",
          "data": {
            "text/plain": [
              "'2.3.1+cu121'"
            ],
            "application/vnd.google.colaboratory.intrinsic+json": {
              "type": "string"
            }
          },
          "metadata": {},
          "execution_count": 15
        }
      ]
    },
    {
      "cell_type": "markdown",
      "source": [
        "In pytorch, everything is a tensor The tensors need to be on the same machine i.e either CPU or GPU\n"
      ],
      "metadata": {
        "id": "HpR34mFcl3Df"
      }
    },
    {
      "cell_type": "code",
      "source": [
        "x = torch.tensor(1.0)\n",
        "y = torch.tensor(2.0)\n",
        "w = torch.tensor(1.0, requires_grad = True)\n",
        "\n",
        "#Forward pass\n",
        "\n",
        "y_hat = w * x\n",
        "loss = (y_hat - y)**2\n",
        "\n",
        "print(loss)\n",
        "\n",
        "#Backward pass\n",
        "loss.backward()\n",
        "print(w.grad)\n"
      ],
      "metadata": {
        "colab": {
          "base_uri": "https://localhost:8080/"
        },
        "id": "faJMg5o6vajE",
        "outputId": "4447bb2a-fe68-4b1a-b7a3-c2636bd4008b"
      },
      "execution_count": 24,
      "outputs": [
        {
          "output_type": "stream",
          "name": "stdout",
          "text": [
            "tensor(1., grad_fn=<PowBackward0>)\n",
            "tensor(-2.)\n"
          ]
        }
      ]
    },
    {
      "cell_type": "markdown",
      "source": [
        "Linear Regression\n"
      ],
      "metadata": {
        "id": "t-zU5Mk6xJBR"
      }
    },
    {
      "cell_type": "code",
      "source": [
        "import numpy as np\n",
        "\n",
        "X = np.array([1,2,3,4], dtype = np.float32)\n",
        "y = np.array([2,4,6,8], dtype = np.float32)\n",
        "\n",
        "w = 0.0\n",
        "\n",
        "#model prediction\n",
        "def forward(x):\n",
        "    return w * x\n",
        "\n",
        "def loss(y, y_pred):\n",
        "    return ((y_pred - y)**2).mean()\n",
        "\n",
        "#gradient\n",
        "def gradient(x,y,y_pred):\n",
        "    return (np.dot(2*x,y_pred - y)).mean()\n",
        "\n",
        "\n",
        "print(f\"prediciton before training : f(5) = {forward(5)}\")\n",
        "\n",
        "\n",
        "\n",
        "#Training\n",
        "learning_rate = 0.01\n",
        "n_iters = 20\n",
        "\n",
        "for epochs in range(n_iters):\n",
        "    y_pred = forward(X)\n",
        "    l = loss(y, y_pred)\n",
        "    dw = gradient(X,y,y_pred)\n",
        "\n",
        "    # update the weights\n",
        "    w -= learning_rate * dw\n",
        "\n",
        "    if epochs % 2 == 0:\n",
        "        print(f\"epoch {epochs+1}: w = {w}, loss = {l}\")\n",
        "\n",
        "\n",
        "print(f\"prediction after training: f(5) = {forward(5):0.3f}\")\n"
      ],
      "metadata": {
        "colab": {
          "base_uri": "https://localhost:8080/"
        },
        "id": "MxmmrtjGBapN",
        "outputId": "73e9f306-6160-4b4e-f3e0-945e70270b55"
      },
      "execution_count": 28,
      "outputs": [
        {
          "output_type": "stream",
          "name": "stdout",
          "text": [
            "prediciton before training : f(5) = 0.0\n",
            "epoch 1: w = 1.2, loss = 30.0\n",
            "epoch 3: w = 1.871999988555908, loss = 0.7680001854896545\n",
            "epoch 5: w = 1.9795200133323667, loss = 0.019660834223031998\n",
            "epoch 7: w = 1.9967231869697568, loss = 0.0005033080233260989\n",
            "epoch 9: w = 1.999475698471069, loss = 1.2884394891443662e-05\n",
            "epoch 11: w = 1.9999160599708554, loss = 3.297340072094812e-07\n",
            "epoch 13: w = 1.9999865984916685, loss = 8.487816671731707e-09\n",
            "epoch 15: w = 1.9999978351593015, loss = 2.1679014139408537e-10\n",
            "epoch 17: w = 1.9999996304512022, loss = 5.076827847005916e-12\n",
            "epoch 19: w = 1.9999999165534972, loss = 1.3145040611561853e-13\n",
            "prediction after training: f(5) = 10.000\n"
          ]
        }
      ]
    },
    {
      "cell_type": "markdown",
      "source": [
        "1. Desing the model with number of inputs and outputs. Input size and output size, and define the forward pass with all the layers.\n",
        "2. Contstruct the loss and optimizer\n",
        "3. Do our training loop. (forward pass: compute prediction, backward pass: gradients, update weights and iterate)"
      ],
      "metadata": {
        "id": "Xtq0nuHFH_KQ"
      }
    },
    {
      "cell_type": "code",
      "source": [
        "# Doing everything with pytorch now\n",
        "# Linear Regression using Pytorch\n",
        "\n",
        "import torch\n",
        "import torch.nn as nn # Neural Network model\n",
        "\n",
        "X = torch.tensor([[1],[2],[3],[4]], dtype = torch.float32)\n",
        "y = torch.tensor([[2],[4],[6],[8]], dtype = torch.float32)\n",
        "\n",
        "\n",
        "X_test = torch.tensor([5], dtype = torch.float32)\n",
        "\n",
        "n_samples, n_features = X.shape\n",
        "print(n_samples, n_features)\n",
        "\n",
        "\n",
        "input_size = n_features\n",
        "output_size = n_features\n",
        "\n",
        "class LinearRegression(nn.Module):\n",
        "    def __init__(self, input_dim, output_dim) -> None:\n",
        "        super(LinearRegression, self).__init__()\n",
        "        self.lin = nn.Linear(input_dim, output_dim)\n",
        "\n",
        "\n",
        "    def forward(self, x):\n",
        "        return self.lin(x)\n",
        "\n",
        "\n",
        "model = LinearRegression(input_size, output_size)\n",
        "\n",
        "\n",
        "\n",
        "print(f\"prediciton before training : f(5) = {model(X_test).item():0.3f}\")\n",
        "\n",
        "\n",
        "#Training\n",
        "learning_rate = 0.01\n",
        "n_iters = 50\n",
        "\n",
        "loss = nn.MSELoss()\n",
        "optimizer = torch.optim.SGD(model.parameters(), lr= learning_rate)\n",
        "\n",
        "for epochs in range(n_iters):\n",
        "    y_pred = model(X)\n",
        "    l = loss(y, y_pred)\n",
        "\n",
        "\n",
        "    l.backward() # gradient of our loss\n",
        "\n",
        "    # update the weights\n",
        "    optimizer.step()\n",
        "\n",
        "    #zero_gradients\n",
        "    optimizer.zero_grad()\n",
        "    if epochs % 2 == 0:\n",
        "        [w, b] = model.parameters()\n",
        "        print(f\"epoch {epochs+1}: w = {w[0][0].item():0.3f}, loss = {l:0.8f}\")\n",
        "\n",
        "\n",
        "print(f\"prediction after training: f(5) = {model(X_test).item():0.3f}\")\n",
        "\n",
        "\n",
        "\n"
      ],
      "metadata": {
        "colab": {
          "base_uri": "https://localhost:8080/"
        },
        "id": "YOj1zamGFK3d",
        "outputId": "50b69873-83ab-498e-fff1-245f62e194d7"
      },
      "execution_count": 38,
      "outputs": [
        {
          "output_type": "stream",
          "name": "stdout",
          "text": [
            "4 1\n",
            "prediciton before training : f(5) = -4.108\n",
            "epoch 1: w = -0.328, loss = 61.54276276\n",
            "epoch 3: w = 0.328, loss = 29.65685654\n",
            "epoch 5: w = 0.784, loss = 14.30451298\n",
            "epoch 7: w = 1.100, loss = 6.91254616\n",
            "epoch 9: w = 1.320, loss = 3.35324740\n",
            "epoch 11: w = 1.473, loss = 1.63926125\n",
            "epoch 13: w = 1.580, loss = 0.81373668\n",
            "epoch 15: w = 1.654, loss = 0.41598129\n",
            "epoch 17: w = 1.706, loss = 0.22418585\n",
            "epoch 19: w = 1.742, loss = 0.13155797\n",
            "epoch 21: w = 1.768, loss = 0.08667883\n",
            "epoch 23: w = 1.786, loss = 0.06479283\n",
            "epoch 25: w = 1.798, loss = 0.05398043\n",
            "epoch 27: w = 1.808, loss = 0.04850300\n",
            "epoch 29: w = 1.814, loss = 0.04559746\n",
            "epoch 31: w = 1.819, loss = 0.04393332\n",
            "epoch 33: w = 1.823, loss = 0.04287001\n",
            "epoch 35: w = 1.826, loss = 0.04209917\n",
            "epoch 37: w = 1.828, loss = 0.04147219\n",
            "epoch 39: w = 1.830, loss = 0.04091755\n",
            "epoch 41: w = 1.832, loss = 0.04040076\n",
            "epoch 43: w = 1.833, loss = 0.03990513\n",
            "epoch 45: w = 1.835, loss = 0.03942267\n",
            "epoch 47: w = 1.836, loss = 0.03894943\n",
            "epoch 49: w = 1.837, loss = 0.03848356\n",
            "prediction after training: f(5) = 9.664\n"
          ]
        }
      ]
    },
    {
      "cell_type": "code",
      "source": [
        "# Working the linear regression from scratch for practice\n",
        "import torch\n",
        "import torch.nn as nn\n",
        "import numpy as np\n",
        "from sklearn import datasets\n",
        "import matplotlib.pyplot as plt\n"
      ],
      "metadata": {
        "id": "Lh3qSKZaM5md"
      },
      "execution_count": 3,
      "outputs": []
    },
    {
      "cell_type": "code",
      "source": [
        "# Step 0: Prepare Data\n",
        "\n",
        "X_numpy, y_numpy = datasets.make_regression(n_samples = 100, n_features = 1, noise = 20, random_state = 1)\n",
        "\n",
        "X = torch.from_numpy(X_numpy.astype(np.float32))\n",
        "y = torch.from_numpy(y_numpy.astype(np.float32))\n",
        "y = y.view(y.shape[0], 1)\n",
        "\n",
        "n_samples, n_features = X.shape\n",
        "\n",
        "#Step 1: Model\n",
        "\n",
        "input_size = n_features\n",
        "output_size = n_features\n",
        "model = nn.Linear(input_size, output_size)\n",
        "\n",
        "\n",
        "#Step 2: Loss and Optimizer\n",
        "ls = nn.MSELoss()\n",
        "learning_rate = 0.01\n",
        "optimizer = torch.optim.SGD(model.parameters(), lr = learning_rate)\n",
        "\n",
        "#Step 3: Training Loop\n",
        "\n",
        "n_itears = 100\n",
        "\n",
        "for epochs in range(n_itears):\n",
        "    #forward pass\n",
        "    y_pred = model(X)\n",
        "    #loss\n",
        "    loss = ls(y_pred,y)\n",
        "    #backward pass\n",
        "    loss.backward()\n",
        "    #update\n",
        "    optimizer.step()\n",
        "    optimizer.zero_grad()\n",
        "\n",
        "    if (epochs+1) % 10 == 0:\n",
        "        print(f\"epoch: {epochs+1}, loss = {loss.item():0.4f}\")\n",
        "\n",
        "\n",
        "#plot\n",
        "predicted = model(X).detach().numpy()\n",
        "plt.plot(X_numpy,y_numpy, \"ro\")\n",
        "plt.plot(X_numpy,predicted, \"b\")\n",
        "plt.show()"
      ],
      "metadata": {
        "colab": {
          "base_uri": "https://localhost:8080/",
          "height": 604
        },
        "id": "UK8TyLK1oeRA",
        "outputId": "9a210278-45b7-4a6d-87ad-79a77b2f823c"
      },
      "execution_count": 4,
      "outputs": [
        {
          "output_type": "stream",
          "name": "stdout",
          "text": [
            "epoch: 10, loss = 4311.0542\n",
            "epoch: 20, loss = 3218.7319\n",
            "epoch: 30, loss = 2428.1396\n",
            "epoch: 40, loss = 1855.3325\n",
            "epoch: 50, loss = 1439.9164\n",
            "epoch: 60, loss = 1138.3751\n",
            "epoch: 70, loss = 919.3120\n",
            "epoch: 80, loss = 760.0469\n",
            "epoch: 90, loss = 644.1755\n",
            "epoch: 100, loss = 559.8208\n"
          ]
        },
        {
          "output_type": "display_data",
          "data": {
            "text/plain": [
              "<Figure size 640x480 with 1 Axes>"
            ],
            "image/png": "[encoded data removed]"
          },
          "metadata": {}
        }
      ]
    },
    {
      "cell_type": "markdown",
      "source": [
        "Logistic Regression.\n",
        "Following are the 3 main steps:\n",
        "1. Design the model(input, output, forward pass)\n",
        "2. Constructing loss and optimizer function\n",
        "3. Training loop with all the steps combined\n",
        "Lastly, we can plot to see how the function model looks\n",
        "\n"
      ],
      "metadata": {
        "id": "dxuD_3ZUsQ1M"
      }
    },
    {
      "cell_type": "code",
      "source": [
        "import torch\n",
        "import torch.nn as nn\n",
        "import numpy as np\n",
        "from sklearn import datasets\n",
        "from sklearn.preprocessing import StandardScaler\n",
        "from sklearn.model_selection import train_test_split\n",
        "import matplotlib.pyplot as plt"
      ],
      "metadata": {
        "id": "jgjD-cGzsPfa"
      },
      "execution_count": 6,
      "outputs": []
    },
    {
      "cell_type": "code",
      "source": [
        "#prepare data\n",
        "\n",
        "bc = datasets.load_breast_cancer()\n",
        "X,y = bc.data, bc.target\n",
        "\n",
        "n_samples, n_features = X.shape\n",
        "print(n_samples,n_features)\n",
        "\n",
        "X_train, X_test, y_train, y_test = train_test_split(X,y,test_size = 0.2, random_state = 1234)\n",
        "\n",
        "#scaling the features\n",
        "sc = StandardScaler()\n",
        "X_train = sc.fit_transform(X_train)\n",
        "X_test = sc.transform(X_test)\n",
        "\n",
        "X_train = torch.from_numpy(X_train.astype(np.float32))\n",
        "X_test = torch.from_numpy(X_test.astype(np.float32))\n",
        "y_train = torch.from_numpy(y_train.astype(np.float32))\n",
        "y_test = torch.from_numpy(y_test.astype(np.float32))\n",
        "\n",
        "\n",
        "y_train = y_train.view(y_train.shape[0], 1)\n",
        "y_test = y_test.view(y_test.shape[0], 1)\n",
        "\n",
        "#model\n",
        "# for logistic regression we have a linear function + a sigmoid\n",
        "class LogisticRegression(nn.Module):\n",
        "    def __init__(self,n_input_features):\n",
        "        super(LogisticRegression,self).__init__()\n",
        "        self.linear = nn.Linear(n_input_features, 1)\n",
        "\n",
        "    def forward(self,x):\n",
        "        y_pred = torch.sigmoid(self.linear(x))\n",
        "        return y_pred\n",
        "\n",
        "\n",
        "model = LogisticRegression(n_features)\n",
        "\n",
        "#loss and optimiser\n",
        "learning_rate = 0.01\n",
        "criterion = nn.BCELoss() # Binary Cross Entropy loss\n",
        "optimizer = torch.optim.SGD(model.parameters(), lr = learning_rate)\n",
        "\n",
        "#training loop\n",
        "num_epochs = 100\n",
        "\n",
        "for epoch in range(num_epochs):\n",
        "    y_pred = model(X_train)\n",
        "\n",
        "    loss = criterion(y_pred,y_train)\n",
        "    loss.backward()\n",
        "    optimizer.step()\n",
        "    optimizer.zero_grad()\n",
        "    if (epoch + 1) % 10 == 0:\n",
        "        print(f\"epoch: {epoch +1}, loss = {loss.item():0.4f}\")\n",
        "\n",
        "\n",
        "with torch.no_grad():\n",
        "    y_pred = model(X_test)\n",
        "    y_pred_class = y_pred.round()\n",
        "    acc = y_pred_class.eq(y_test).sum() / float(y_test.shape[0])\n",
        "    print(f\"accuracy = {acc:0.4f}\")"
      ],
      "metadata": {
        "colab": {
          "base_uri": "https://localhost:8080/"
        },
        "id": "J_P3ebZEs9DC",
        "outputId": "a83a2dab-8b1b-4009-82a3-9a09078d07a6"
      },
      "execution_count": 8,
      "outputs": [
        {
          "output_type": "stream",
          "name": "stdout",
          "text": [
            "569 30\n",
            "epoch: 10, loss = 0.6731\n",
            "epoch: 20, loss = 0.5267\n",
            "epoch: 30, loss = 0.4407\n",
            "epoch: 40, loss = 0.3851\n",
            "epoch: 50, loss = 0.3461\n",
            "epoch: 60, loss = 0.3170\n",
            "epoch: 70, loss = 0.2944\n",
            "epoch: 80, loss = 0.2761\n",
            "epoch: 90, loss = 0.2610\n",
            "epoch: 100, loss = 0.2483\n",
            "accuracy = 0.9035\n"
          ]
        }
      ]
    },
    {
      "cell_type": "code",
      "source": [],
      "metadata": {
        "id": "hUFs_4jJxOMZ"
      },
      "execution_count": null,
      "outputs": []
    }
  ]
}